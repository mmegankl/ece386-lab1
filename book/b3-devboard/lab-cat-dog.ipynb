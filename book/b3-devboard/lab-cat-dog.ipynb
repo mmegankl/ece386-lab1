{
  "cells": [
    {
      "cell_type": "markdown",
      "metadata": {
        "id": "aO9l1DEDx9LG"
      },
      "source": [
        "# Lab 3: Transfer Learning with Cats vs. Dogs\n",
        "\n",
        "```{contents}\n",
        ":depth: 2\n",
        "```\n",
        "\n",
        "> Original, from [Keras Developer Guides: Transfer learning & fine-tuning](https://keras.io/guides/transfer_learning/)\n",
        ">\n",
        "> Which is itself adapted from [Deep Learning with Python](https://www.manning.com/books/deep-learning-with-python)\n",
        "> and the 2016 blog post [\"building powerful image classification models using very little data\"](https://blog.keras.io/building-powerful-image-classification-models-using-very-little-data.html).\n",
        ">\n",
        "> *Author: [fchollet](https://twitter.com/fchollet) Date created: 2020/04/15 Last modified: 2023/06/25*\n",
        ">\n",
        "> Adapted for ECE 386 by [byarbrough](https://github.com/byarbrough) with additions from [TensorFlow Tutorials: Transfer learning and fine-tuning](https://www.tensorflow.org/tutorials/images/transfer_learning), cao Jan 2025.\n",
        "\n",
        "Check out this **Overview** and the complete the **Prelab** below."
      ]
    },
    {
      "cell_type": "markdown",
      "metadata": {
        "id": "LavDneLEFb94"
      },
      "source": [
        "## Overview\n",
        "\n",
        "**Pre-reading video:** [Kaggle: Transfer Learning](https://youtu.be/mPFq5KMxKVw) (only first 5 minutes)\n",
        "\n",
        "For this lab you will use *transfer learning* to make a general purpose image classification model exceptional at telling the difference between cats vs. dogs!\n",
        "\n",
        "You will ultimately use this model for live inference with visitors to the classroom!"
      ]
    },
    {
      "cell_type": "markdown",
      "metadata": {
        "id": "anl4XQaEz5r6"
      },
      "source": [
        "### Background\n",
        "\n",
        "```{contents}\n",
        ":local:\n",
        "```\n",
        "\n",
        "#### Introduction\n",
        "\n",
        "**Transfer learning** consists of taking features learned on one problem, and\n",
        "leveraging them on a new, similar problem. For instance, features from a model that has\n",
        "learned to identify racoons may be useful to kick-start a model meant to identify tanukis.\n",
        "\n",
        "Transfer learning is usually done for tasks where your dataset has too little data to train a full-scale model from scratch.\n",
        "\n",
        "The most common incarnation of transfer learning in the context of deep learning is the following workflow:\n",
        "\n",
        "1. Take layers from a previously trained model.\n",
        "2. Freeze them, so as to avoid destroying any of the information they contain during future training rounds.\n",
        "3. Add some new, trainable layers on top of the frozen layers.\n",
        "    They will learn to turn the old features into predictions on a  new dataset.\n",
        "4. Train the new layers on your dataset.\n",
        "\n",
        "A last, optional step, is **fine-tuning**, which consists of unfreezing the entire\n",
        "model you obtained above (or part of it), and re-training it on the new data with a\n",
        "very low learning rate. This can potentially achieve meaningful improvements, by\n",
        "incrementally adapting the pretrained features to the new data.\n",
        "\n",
        "First, we will go over the Keras `trainable` API in detail, which underlies most\n",
        "transfer learning & fine-tuning workflows.\n",
        "\n",
        "#### Freezing layers: understanding the `trainable` attribute\n",
        "\n",
        "Layers & models have three weight attributes:\n",
        "\n",
        "- `weights` is the list of all weights variables of the layer.\n",
        "- `trainable_weights` is the list of those that are meant to be updated (via gradient\n",
        " descent) to minimize the loss during training.\n",
        "- `non_trainable_weights` is the list of those that aren't meant to be trained.\n",
        " Typically they are updated by the model during the forward pass.\n",
        "\n",
        "**Example: the `Dense` layer has 2 trainable weights (kernel & bias)**\n",
        "\n",
        "```python\n",
        "layer = keras.layers.Dense(3)\n",
        "layer.build((None, 4))  # Create the weights\n",
        "\n",
        "print(\"weights:\", len(layer.weights))\n",
        "print(\"trainable_weights:\", len(layer.trainable_weights))\n",
        "print(\"non_trainable_weights:\", len(layer.non_trainable_weights))\n",
        "```\n",
        "\n",
        "```text\n",
        "weights: 2\n",
        "trainable_weights: 2\n",
        "non_trainable_weights: 0\n",
        "```\n",
        "In general, all weights are trainable weights. The only built-in layer that has\n",
        "non-trainable weights is the `BatchNormalization` layer.\n",
        "It uses non-trainable weights to keep track of the mean and variance of its inputs during training.\n",
        "To learn how to use non-trainable weights in your own custom layers, see the\n",
        "[guide to writing new layers from scratch](/guides/making_new_layers_and_models_via_subclassing/).\n",
        "\n",
        "**Example: the `BatchNormalization` layer has 2 trainable weights and 2 non-trainable weights**\n",
        "\n",
        "```python\n",
        "layer = keras.layers.BatchNormalization()\n",
        "layer.build((None, 4))  # Create the weights\n",
        "\n",
        "print(\"weights:\", len(layer.weights))\n",
        "print(\"trainable_weights:\", len(layer.trainable_weights))\n",
        "print(\"non_trainable_weights:\", len(layer.non_trainable_weights))\n",
        "```\n",
        "```text\n",
        "weights: 4\n",
        "trainable_weights: 2\n",
        "non_trainable_weights: 2\n",
        "```\n",
        "\n",
        "Layers & models also feature a boolean attribute `trainable`. Its value can be changed.\n",
        "Setting `layer.trainable` to `False` moves all the layer's weights from trainable to\n",
        "non-trainable.  This is called \"freezing\" the layer: the state of a frozen layer won't\n",
        "be updated during training (either when training with `fit()` or when training with\n",
        " any custom loop that relies on `trainable_weights` to apply gradient updates).\n",
        "\n",
        "**Example: setting `trainable` to `False`**\n",
        "\n",
        "```python\n",
        "layer = keras.layers.Dense(3)\n",
        "layer.build((None, 4))  # Create the weights\n",
        "layer.trainable = False  # Freeze the layer\n",
        "\n",
        "print(\"weights:\", len(layer.weights))\n",
        "print(\"trainable_weights:\", len(layer.trainable_weights))\n",
        "print(\"non_trainable_weights:\", len(layer.non_trainable_weights))\n",
        "```\n",
        "\n",
        "```text\n",
        "weights: 2\n",
        "trainable_weights: 0\n",
        "non_trainable_weights: 2\n",
        "```\n",
        "When a trainable weight becomes non-trainable, its value is no longer updated during training.\n",
        "\n",
        "```python\n",
        "# Make a model with 2 layers\n",
        "layer1 = keras.layers.Dense(3, activation=\"relu\")\n",
        "layer2 = keras.layers.Dense(3, activation=\"sigmoid\")\n",
        "model = keras.Sequential([keras.Input(shape=(3,)), layer1, layer2])\n",
        "\n",
        "# Freeze the first layer\n",
        "layer1.trainable = False\n",
        "\n",
        "# Keep a copy of the weights of layer1 for later reference\n",
        "initial_layer1_weights_values = layer1.get_weights()\n",
        "\n",
        "# Train the model\n",
        "model.compile(optimizer=\"adam\", loss=\"mse\")\n",
        "model.fit(np.random.random((2, 3)), np.random.random((2, 3)))\n",
        "\n",
        "# Check that the weights of layer1 have not changed during training\n",
        "final_layer1_weights_values = layer1.get_weights()\n",
        "np.testing.assert_allclose(\n",
        "    initial_layer1_weights_values[0], final_layer1_weights_values[0]\n",
        ")\n",
        "np.testing.assert_allclose(\n",
        "    initial_layer1_weights_values[1], final_layer1_weights_values[1]\n",
        ")\n",
        "```\n",
        "\n",
        "```text\n",
        "1/1 ━━━━━━━━━━━━━━━━━━━━ 1s 1s/step - loss: 0.1309\n",
        "```\n",
        "\n",
        "Do not confuse the `layer.trainable` attribute with the argument `training` in `layer.__call__()` (which controls whether the layer should run its forward pass in  inference mode or training mode).\n",
        "For more information, see the [Keras FAQ](https://keras.io/getting_started/faq/#whats-the-difference-between-the-training-argument-in-call-and-the-trainable-attribute).\n",
        "\n",
        "#### Recursive setting of the `trainable` attribute\n",
        "\n",
        "If you set `trainable = False` on a model or on any layer that has sublayers,\n",
        "all children layers become non-trainable as well.\n",
        "\n",
        "**Example:**\n",
        "\n",
        "```python\n",
        "inner_model = keras.Sequential(\n",
        "    [\n",
        "        keras.Input(shape=(3,)),\n",
        "        keras.layers.Dense(3, activation=\"relu\"),\n",
        "        keras.layers.Dense(3, activation=\"relu\"),\n",
        "    ]\n",
        ")\n",
        "\n",
        "model = keras.Sequential(\n",
        "    [\n",
        "        keras.Input(shape=(3,)),\n",
        "        inner_model,\n",
        "        keras.layers.Dense(3, activation=\"sigmoid\"),\n",
        "    ]\n",
        ")\n",
        "\n",
        "model.trainable = False  # Freeze the outer model\n",
        "\n",
        "assert inner_model.trainable == False  # All layers in `model` are now frozen\n",
        "assert inner_model.layers[0].trainable == False  # `trainable` is propagated recursively\n",
        "```\n",
        "\n",
        "#### The typical transfer-learning workflow\n",
        "\n",
        "This leads us to how a typical transfer learning workflow can be implemented in Keras:\n",
        "\n",
        "1. Instantiate a base model and load pre-trained weights into it.\n",
        "2. Freeze all layers in the base model by setting `trainable = False`.\n",
        "3. Create a new model on top of the output of one (or several) layers from the base\n",
        " model.\n",
        "4. Train your new model on your new dataset.\n",
        "\n",
        "Note that an alternative, more lightweight workflow could also be:\n",
        "\n",
        "1. Instantiate a base model and load pre-trained weights into it.\n",
        "2. Run your new dataset through it and record the output of one (or several) layers\n",
        " from the base model. This is called **feature extraction**.\n",
        "3. Use that output as input data for a new, smaller model.\n",
        "\n",
        "A key advantage of that second workflow is that you only run the base model once on\n",
        "your data, rather than once per epoch of training. So it's a lot faster & cheaper.\n",
        "\n",
        "An issue with that second workflow, though, is that it doesn't allow you to dynamically\n",
        "modify the input data of your new model during training, which is required when doing\n",
        "data augmentation, for instance. Transfer learning is typically used for tasks when\n",
        "your new dataset has too little data to train a full-scale model from scratch, and in\n",
        "such scenarios data augmentation is very important. So in what follows, we will focus\n",
        "on the first workflow.\n",
        "\n",
        "Here's what the first workflow looks like in Keras:\n",
        "\n",
        "First, instantiate a base model with pre-trained weights.\n",
        "\n",
        "```python\n",
        "base_model = keras.applications.Xception(\n",
        "    weights='imagenet',  # Load weights pre-trained on ImageNet.\n",
        "    input_shape=(150, 150, 3),\n",
        "    include_top=False)  # Do not include the ImageNet classifier at the top.\n",
        "```\n",
        "\n",
        "Then, freeze the base model.\n",
        "\n",
        "```python\n",
        "base_model.trainable = False\n",
        "```\n",
        "\n",
        "Create a new model on top.\n",
        "\n",
        "```python\n",
        "inputs = keras.Input(shape=(150, 150, 3))\n",
        "# We make sure that the base_model is running in inference mode here,\n",
        "# by passing `training=False`. This is important for fine-tuning, as you will\n",
        "# learn in a few paragraphs.\n",
        "x = base_model(inputs, training=False)\n",
        "# Convert features of shape `base_model.output_shape[1:]` to vectors\n",
        "x = keras.layers.GlobalAveragePooling2D()(x)\n",
        "# A Dense classifier with a single unit (binary classification)\n",
        "outputs = keras.layers.Dense(1)(x)\n",
        "model = keras.Model(inputs, outputs)\n",
        "```\n",
        "\n",
        "Train the model on new data.\n",
        "\n",
        "```python\n",
        "model.compile(optimizer=keras.optimizers.Adam(),\n",
        "              loss=keras.losses.BinaryCrossentropy(from_logits=True),\n",
        "              metrics=[keras.metrics.BinaryAccuracy()])\n",
        "model.fit(new_dataset, epochs=20, callbacks=..., validation_data=...)\n",
        "```\n",
        "\n",
        "#### Fine-tuning\n",
        "\n",
        "Once your model has converged on the new data, you can try to unfreeze all or part of\n",
        "the base model and retrain the whole model end-to-end with a very low learning rate.\n",
        "\n",
        "This is an optional last step that can potentially give you incremental improvements.\n",
        "It could also potentially lead to quick overfitting -- keep that in mind.\n",
        "\n",
        "It is critical to only do this step *after* the model with frozen layers has been\n",
        "trained to convergence. If you mix randomly-initialized trainable layers with\n",
        "trainable layers that hold pre-trained features, the randomly-initialized layers will\n",
        "cause very large gradient updates during training, which will destroy your pre-trained\n",
        "features.\n",
        "\n",
        "It's also critical to use a very low learning rate at this stage, because\n",
        "you are training a much larger model than in the first round of training, on a dataset\n",
        "that is typically very small.\n",
        "As a result, you are at risk of overfitting very quickly if you apply large weight\n",
        "updates. Here, you only want to readapt the pretrained weights in an incremental way.\n",
        "\n",
        "This is how to implement fine-tuning of the whole base model:\n",
        "\n",
        "```python\n",
        "# Unfreeze the base model\n",
        "base_model.trainable = True\n",
        "\n",
        "# It's important to recompile your model after you make any changes\n",
        "# to the `trainable` attribute of any inner layer, so that your changes\n",
        "# are take into account\n",
        "model.compile(optimizer=keras.optimizers.Adam(1e-5),  # Very low learning rate\n",
        "              loss=keras.losses.BinaryCrossentropy(from_logits=True),\n",
        "              metrics=[keras.metrics.BinaryAccuracy()])\n",
        "\n",
        "# Train end-to-end. Be careful to stop before you overfit!\n",
        "model.fit(new_dataset, epochs=10, callbacks=..., validation_data=...)\n",
        "```\n",
        "\n",
        "**Important note about `compile()` and `trainable`**\n",
        "\n",
        "Calling `compile()` on a model is meant to \"freeze\" the behavior of that model. This\n",
        "implies that the `trainable`\n",
        "attribute values at the time the model is compiled should be preserved throughout the\n",
        "lifetime of that model,\n",
        "until `compile` is called again. Hence, if you change any `trainable` value, make sure\n",
        "to call `compile()` again on your\n",
        "model for your changes to be taken into account.\n",
        "\n",
        "**Important notes about `BatchNormalization` layer**\n",
        "\n",
        "Many image models contain `BatchNormalization` layers. That layer is a special case on\n",
        "every imaginable count. Here are a few things to keep in mind.\n",
        "\n",
        "- `BatchNormalization` contains 2 non-trainable weights that get updated during\n",
        "training. These are the variables tracking the mean and variance of the inputs.\n",
        "- When you set `bn_layer.trainable = False`, the `BatchNormalization` layer will run in inference mode, and will not update its mean & variance statistics. This is not the case for other layers in general, as [weight trainability & inference/training modes are two orthogonal concepts](https://keras.io/getting_started/faq/#whats-the-difference-between-the-training-argument-in-call-and-the-trainable-attribute). But the two are tied in the case of the `BatchNormalization` layer.\n",
        "- When you unfreeze a model that contains `BatchNormalization` layers in order to do fine-tuning, you should keep the `BatchNormalization` layers in inference mode by passing `training=False` when calling the base model. Otherwise the updates applied to the non-trainable weights will suddenly destroy what the model has learned.\n",
        "\n",
        "---"
      ]
    },
    {
      "cell_type": "markdown",
      "metadata": {
        "id": "VGJcO360x9Lh"
      },
      "source": [
        "## Pre-lab\n",
        "\n",
        "```{contents}\n",
        ":local:\n",
        "```\n",
        "\n",
        "For the pre-lab, follow this end-to-end example: fine-tuning an image classification model on a cats vs. dogs dataset\n",
        "\n",
        "1. Watch the pre-reading video.\n",
        "2. Load and explore the dataset.\n",
        "3. Load the MobileNet model.\n",
        "4. Perform transfer learning on the model.\n",
        "5. Save a copy of the model for use in the lab."
      ]
    },
    {
      "cell_type": "code",
      "execution_count": 1,
      "metadata": {
        "id": "jN8XHZT5z5r7",
        "outputId": "8a5f84f4-e45a-436d-ea72-31e5d1a5abb0",
        "colab": {
          "base_uri": "https://localhost:8080/"
        }
      },
      "outputs": [
        {
          "output_type": "stream",
          "name": "stdout",
          "text": [
            "Running Tensorflow version 2.18.0\n",
            "Found GPU at: /device:GPU:0\n"
          ]
        }
      ],
      "source": [
        "import keras\n",
        "from keras import layers\n",
        "import matplotlib.pyplot as plt\n",
        "import numpy as np\n",
        "import tensorflow as tf\n",
        "import tensorflow_datasets as tfds\n",
        "\n",
        "tf.random.set_seed(2016)  # For reproducability\n",
        "\n",
        "print(\"Running Tensorflow version\", tf.__version__)\n",
        "\n",
        "device_name = tf.test.gpu_device_name()\n",
        "if device_name != \"/device:GPU:0\":\n",
        "    raise SystemError(\"GPU device not found\")\n",
        "\n",
        "print(\"Found GPU at: {}\".format(device_name))"
      ]
    },
    {
      "cell_type": "markdown",
      "metadata": {
        "id": "k2a6wb6hx9Lh"
      },
      "source": [
        "### Getting the data\n",
        "\n",
        "First, let's fetch the cats vs. dogs dataset using TFDS. If you have your own dataset,\n",
        "you'll probably want to use the utility\n",
        "`keras.utils.image_dataset_from_directory` to generate similar labeled\n",
        " dataset objects from a set of images on disk filed into class-specific folders.\n",
        "\n",
        "Transfer learning is most useful when working with very small datasets. To keep our\n",
        "dataset small, we will use 40% of the original training data (25,000 images) for\n",
        " training, 10% for validation, and 10% for testing."
      ]
    },
    {
      "cell_type": "code",
      "execution_count": null,
      "metadata": {
        "id": "9py9l1Rux9Li"
      },
      "outputs": [],
      "source": [
        "tfds.disable_progress_bar()\n",
        "\n",
        "train_ds, validation_ds, test_ds = tfds.load(\n",
        "    \"cats_vs_dogs\",\n",
        "    # Reserve 10% for validation and 10% for test\n",
        "    split=[\"train[:40%]\", \"train[40%:50%]\", \"train[50%:60%]\"],\n",
        "    as_supervised=True,  # Include labels\n",
        ")\n",
        "\n",
        "print(f\"Number of training samples: {train_ds.cardinality()}\")\n",
        "print(f\"Number of validation samples: {validation_ds.cardinality()}\")\n",
        "print(f\"Number of test samples: {test_ds.cardinality()}\")\n",
        "print(f\"Dtype of training samles: {train_ds.element_spec[0]}\")\n",
        "print(f\"Dtype of training labels: {train_ds.element_spec[1]}\")"
      ]
    },
    {
      "cell_type": "markdown",
      "metadata": {
        "id": "OvgKu54tx9Lj"
      },
      "source": [
        "These are the first 9 images in the training dataset -- as you can see, they're all\n",
        "different sizes."
      ]
    },
    {
      "cell_type": "code",
      "execution_count": null,
      "metadata": {
        "id": "dwocA9-Ix9Lj"
      },
      "outputs": [],
      "source": [
        "plt.figure(figsize=(10, 10))\n",
        "for i, (image, label) in enumerate(train_ds.take(9)):\n",
        "    ax = plt.subplot(3, 3, i + 1)\n",
        "    plt.imshow(image)\n",
        "    plt.title(int(label))\n",
        "    plt.axis(\"off\")"
      ]
    },
    {
      "cell_type": "markdown",
      "metadata": {
        "id": "BLq9ZoKWx9Lk"
      },
      "source": [
        "We can also see that label 1 is \"dog\" and label 0 is \"cat\"."
      ]
    },
    {
      "cell_type": "markdown",
      "metadata": {
        "id": "H96vq1Acx9Ll"
      },
      "source": [
        "#### Standardizing the data\n",
        "\n",
        "Our raw images have a variety of sizes. In addition, each pixel consists of 3 integer\n",
        "values between 0 and 255 (RGB level values). This isn't a great fit for feeding a\n",
        "neural network. We need to do 2 things:\n",
        "\n",
        "- Standardize to a fixed image size. We pick 150x150.\n",
        "- Normalize pixel values to what the model expects. We'll do this using a layer within the model itself.\n",
        "\n",
        "In general, it's a good practice to develop models that take raw data as input, as\n",
        "opposed to models that take already-preprocessed data. The reason being that, if your\n",
        "model expects preprocessed data, any time you export your model to use it elsewhere\n",
        "(in a web browser, in a mobile app), you'll need to reimplement the exact same\n",
        "preprocessing pipeline. This gets very tricky very quickly. So we should do the least\n",
        " possible amount of preprocessing before hitting the model.\n",
        "\n",
        "Here, we'll do image resizing in the data pipeline (because a deep neural network can\n",
        "only process contiguous batches of data), and we'll do the input value scaling as part\n",
        "of the model, when we create it.\n",
        "\n",
        "Let's resize images to 150x150:"
      ]
    },
    {
      "cell_type": "code",
      "execution_count": null,
      "metadata": {
        "id": "aDnyFTznx9Ll"
      },
      "outputs": [],
      "source": [
        "resize_fn = keras.layers.Resizing(150, 150, dtype=tf.uint8)\n",
        "\n",
        "train_ds = train_ds.map(lambda x, y: (resize_fn(x), y))\n",
        "validation_ds = validation_ds.map(lambda x, y: (resize_fn(x), y))\n",
        "test_ds = test_ds.map(lambda x, y: (resize_fn(x), y))"
      ]
    },
    {
      "cell_type": "code",
      "execution_count": null,
      "metadata": {
        "id": "2PH6-gDL3fMv"
      },
      "outputs": [],
      "source": [
        "print(f\"Training set {train_ds.element_spec[0]}\")"
      ]
    },
    {
      "cell_type": "markdown",
      "metadata": {
        "id": "2r3T3664x9Lm"
      },
      "source": [
        "#### Using random data augmentation\n",
        "\n",
        "When you don't have a large image dataset, it's a good practice to artificially\n",
        "introduce sample diversity by applying random yet realistic transformations to\n",
        "the training images, such as random horizontal flipping or small random rotations. This\n",
        "helps expose the model to different aspects of the training data while slowing down\n",
        "overfitting."
      ]
    },
    {
      "cell_type": "code",
      "execution_count": null,
      "metadata": {
        "id": "q357YgMMx9Lm"
      },
      "outputs": [],
      "source": [
        "# Cache loads the dataset into memory\n",
        "train_ds = train_ds.cache()\n",
        "\n",
        "augmentation_layers = [\n",
        "    layers.RandomFlip(\"horizontal\"),\n",
        "    layers.RandomRotation(0.1),\n",
        "]\n",
        "\n",
        "\n",
        "def data_augmentation(x):\n",
        "    for layer in augmentation_layers:\n",
        "        x = layer(x)\n",
        "    return x\n",
        "\n",
        "\n",
        "# This map means data_augmentation will be called when the dataset is iterated\n",
        "train_ds = train_ds.map(lambda x, y: (data_augmentation(x), y))"
      ]
    },
    {
      "cell_type": "markdown",
      "metadata": {
        "id": "ff_dUgznx9Ln"
      },
      "source": [
        "Let's batch the data and use prefetching to optimize loading speed."
      ]
    },
    {
      "cell_type": "code",
      "execution_count": null,
      "metadata": {
        "id": "RAiQJi4ux9Lo"
      },
      "outputs": [],
      "source": [
        "from tensorflow import data as tf_data\n",
        "\n",
        "batch_size = 64\n",
        "\n",
        "train_ds = train_ds.batch(batch_size).prefetch(tf_data.AUTOTUNE)\n",
        "validation_ds = validation_ds.batch(batch_size).prefetch(tf_data.AUTOTUNE).cache()\n",
        "test_ds = test_ds.batch(batch_size).prefetch(tf_data.AUTOTUNE).cache()"
      ]
    },
    {
      "cell_type": "code",
      "execution_count": null,
      "metadata": {
        "id": "Id914zKc3jVo"
      },
      "outputs": [],
      "source": [
        "print(f\"Number of training batches: {train_ds.cardinality()}\")\n",
        "print(f\"Number of validation batches: {validation_ds.cardinality()}\")\n",
        "print(f\"Number of test batches: {test_ds.cardinality()}\")"
      ]
    },
    {
      "cell_type": "markdown",
      "metadata": {
        "id": "PkjPx7--x9Lp"
      },
      "source": [
        "Let's visualize what the first image of the first batch looks like after various random\n",
        " transformations:"
      ]
    },
    {
      "cell_type": "code",
      "execution_count": null,
      "metadata": {
        "id": "hx0s7ifzx9Lp"
      },
      "outputs": [],
      "source": [
        "for images, labels in train_ds.take(1):\n",
        "    plt.figure(figsize=(10, 10))\n",
        "    first_image = images[0]\n",
        "    for i in range(9):\n",
        "        ax = plt.subplot(3, 3, i + 1)\n",
        "        augmented_image = data_augmentation(np.expand_dims(first_image, 0))\n",
        "        plt.imshow(np.array(augmented_image[0]).astype(\"int32\"))\n",
        "        plt.title(int(labels[0]))\n",
        "        plt.axis(\"off\")"
      ]
    },
    {
      "cell_type": "markdown",
      "metadata": {
        "id": "DXtHKoa7x9Lq"
      },
      "source": [
        "### Build a model\n",
        "\n",
        "Now let's built a model that follows the blueprint we've explained earlier.\n",
        "\n",
        "Note that:\n",
        "\n",
        "- We add a `Rescaling` layer to scale input values (initially in the `[0, 255]`\n",
        " range) to the `[-1, 1]` range.\n",
        "- We add a `Dropout` layer before the classification layer, for regularization.\n",
        "- We make sure to pass `training=False` when calling the base model, so that\n",
        "it runs in inference mode, so that batchnorm statistics don't get updated\n",
        "even after we unfreeze the base model for fine-tuning.\n",
        "\n",
        "We will make the input data type `uint8` since that's what our webcam will eventually capture."
      ]
    },
    {
      "cell_type": "code",
      "execution_count": null,
      "metadata": {
        "id": "a3IlygZy09vt"
      },
      "outputs": [],
      "source": [
        "base_model = tf.keras.applications.MobileNetV2(\n",
        "    input_shape=(150, 150, 3), include_top=False, weights=\"imagenet\"\n",
        ")\n",
        "\n",
        "# Freeze the base_model\n",
        "base_model.trainable = False\n",
        "\n",
        "# Create new model on top\n",
        "inputs = keras.Input(shape=(150, 150, 3), dtype=tf.uint8, name=\"catdog_input\")\n",
        "\n",
        "# Pre-trained MobileNetV2 weights requires that input be scaled\n",
        "# from (0, 255) to a range of (-1., +1.), the rescaling layer\n",
        "# outputs: `(inputs * scale) + offset`\n",
        "preprocess_input = tf.keras.applications.mobilenet_v2.preprocess_input\n",
        "\n",
        "x = preprocess_input(inputs)\n",
        "\n",
        "# The base model contains batchnorm layers. We want to keep them in inference mode\n",
        "# when we unfreeze the base model for fine-tuning, so we make sure that the\n",
        "# base_model is running in inference mode here.\n",
        "x = base_model(x, training=False)\n",
        "x = keras.layers.GlobalAveragePooling2D()(x)\n",
        "x = keras.layers.Dropout(0.2)(x)  # Regularize with dropout\n",
        "outputs = keras.layers.Dense(1)(x)\n",
        "model = keras.Model(inputs, outputs)\n",
        "\n",
        "model.summary(show_trainable=True)"
      ]
    },
    {
      "cell_type": "markdown",
      "metadata": {
        "id": "Xv4zfjCtx9Ls"
      },
      "source": [
        "### Train the top layer"
      ]
    },
    {
      "cell_type": "code",
      "execution_count": null,
      "metadata": {
        "id": "7m5BsdEkx9Ls"
      },
      "outputs": [],
      "source": [
        "model.compile(\n",
        "    optimizer=keras.optimizers.Adam(),\n",
        "    loss=keras.losses.BinaryCrossentropy(from_logits=True),\n",
        "    metrics=[tf.keras.metrics.BinaryAccuracy(threshold=0.5, name=\"accuracy\")],\n",
        ")"
      ]
    },
    {
      "cell_type": "code",
      "execution_count": null,
      "metadata": {
        "id": "7wjPfLnNF5GS"
      },
      "outputs": [],
      "source": [
        "initial_epochs = 10\n",
        "\n",
        "print(\"Fitting the top layer of the model\")\n",
        "history = model.fit(train_ds, epochs=initial_epochs, validation_data=validation_ds)"
      ]
    },
    {
      "cell_type": "markdown",
      "metadata": {
        "id": "j55u2y4rEDyT"
      },
      "source": [
        "#### Learning Curves\n",
        "\n",
        "Let's take a look at the learning curves of the training and validation accuracy/loss when using the MobileNetV2 base model as a fixed feature extractor."
      ]
    },
    {
      "cell_type": "code",
      "execution_count": null,
      "metadata": {
        "id": "YXdmeKflF5GS"
      },
      "outputs": [],
      "source": [
        "acc = history.history[\"accuracy\"]\n",
        "val_acc = history.history[\"val_accuracy\"]\n",
        "\n",
        "loss = history.history[\"loss\"]\n",
        "val_loss = history.history[\"val_loss\"]\n",
        "\n",
        "plt.figure(figsize=(8, 8))\n",
        "plt.subplot(2, 1, 1)\n",
        "plt.plot(acc, label=\"Training Accuracy\")\n",
        "plt.plot(val_acc, label=\"Validation Accuracy\")\n",
        "plt.legend(loc=\"lower right\")\n",
        "plt.ylabel(\"Accuracy\")\n",
        "plt.ylim([min(plt.ylim()), 1])\n",
        "plt.title(\"Training and Validation Accuracy\")\n",
        "\n",
        "plt.subplot(2, 1, 2)\n",
        "plt.plot(loss, label=\"Training Loss\")\n",
        "plt.plot(val_loss, label=\"Validation Loss\")\n",
        "plt.legend(loc=\"upper right\")\n",
        "plt.ylabel(\"Cross Entropy\")\n",
        "plt.ylim([0, 1.0])\n",
        "plt.title(\"Training and Validation Loss\")\n",
        "plt.xlabel(\"epoch\")\n",
        "plt.show()"
      ]
    },
    {
      "cell_type": "markdown",
      "metadata": {
        "id": "I6PXTNgbx9Lt"
      },
      "source": [
        "### Fine-tuning the entire model\n",
        "\n",
        "Finally, let's unfreeze the base model and train the entire model end-to-end with a low learning rate.\n",
        "\n",
        "Importantly, although the base model becomes trainable, it is still running in\n",
        "inference mode since we passed `training=False` when calling it when we built the\n",
        "model. This means that the batch normalization layers inside won't update their batch\n",
        "statistics. If they did, they would wreck havoc on the representations learned by the model so far."
      ]
    },
    {
      "cell_type": "code",
      "execution_count": null,
      "metadata": {
        "id": "JsvWb3N4x9Lt"
      },
      "outputs": [],
      "source": [
        "# Unfreeze the base_model. Note that it keeps running in inference mode\n",
        "# since we passed `training=False` when calling it. This means that\n",
        "# the batchnorm layers will not update their batch statistics.\n",
        "# This prevents the batchnorm layers from undoing all the training\n",
        "# we've done so far.\n",
        "base_model.trainable = True\n",
        "model.summary(show_trainable=True)\n",
        "\n",
        "model.compile(\n",
        "    optimizer=keras.optimizers.Adam(1e-5),  # Low learning rate\n",
        "    loss=keras.losses.BinaryCrossentropy(from_logits=True),\n",
        "    metrics=[tf.keras.metrics.BinaryAccuracy(threshold=0.5, name=\"accuracy\")],\n",
        ")\n",
        "\n",
        "fine_epochs = 5\n",
        "print(\"Fitting the end-to-end model\")\n",
        "history_fine = model.fit(train_ds, epochs=fine_epochs, validation_data=validation_ds)"
      ]
    },
    {
      "cell_type": "markdown",
      "metadata": {
        "id": "hPvZM69Cx9Lu"
      },
      "source": [
        "After a few epochs, fine-tuning gains us a nice improvement here.\n",
        "Let's evaluate the model on the test dataset:"
      ]
    },
    {
      "cell_type": "markdown",
      "metadata": {
        "id": "zCevIqdLE3Vh"
      },
      "source": [
        "Let's take a look at the learning curves of the training and validation accuracy/loss when fine-tuning the last few layers of the MobileNetV2 base model and training the classifier on top of it. The validation loss is much higher than the training loss, so you may get some overfitting.\n",
        "\n",
        "You may also get some overfitting as the new training set is relatively small and similar to the original MobileNetV2 datasets."
      ]
    },
    {
      "cell_type": "code",
      "execution_count": null,
      "metadata": {
        "id": "OCksW_5lE4_r"
      },
      "outputs": [],
      "source": [
        "acc += history_fine.history[\"accuracy\"]\n",
        "val_acc += history_fine.history[\"val_accuracy\"]\n",
        "\n",
        "loss += history_fine.history[\"loss\"]\n",
        "val_loss += history_fine.history[\"val_loss\"]"
      ]
    },
    {
      "cell_type": "code",
      "execution_count": null,
      "metadata": {
        "id": "rcMntMA9E6N-"
      },
      "outputs": [],
      "source": [
        "plt.figure(figsize=(8, 8))\n",
        "plt.subplot(2, 1, 1)\n",
        "plt.plot(acc, label=\"Training Accuracy\")\n",
        "plt.plot(val_acc, label=\"Validation Accuracy\")\n",
        "plt.ylim([0.8, 1])\n",
        "plt.plot(\n",
        "    [initial_epochs - 1, initial_epochs - 1], plt.ylim(), label=\"Start Fine Tuning\"\n",
        ")\n",
        "plt.legend(loc=\"lower right\")\n",
        "plt.title(\"Training and Validation Accuracy\")\n",
        "\n",
        "plt.subplot(2, 1, 2)\n",
        "plt.plot(loss, label=\"Training Loss\")\n",
        "plt.plot(val_loss, label=\"Validation Loss\")\n",
        "plt.ylim([0, 1.0])\n",
        "plt.plot(\n",
        "    [initial_epochs - 1, initial_epochs - 1], plt.ylim(), label=\"Start Fine Tuning\"\n",
        ")\n",
        "plt.legend(loc=\"upper right\")\n",
        "plt.title(\"Training and Validation Loss\")\n",
        "plt.xlabel(\"epoch\")\n",
        "plt.show()"
      ]
    },
    {
      "cell_type": "markdown",
      "metadata": {
        "id": "lyVqP9htF5GT"
      },
      "source": [
        "#### Test\n",
        "\n",
        "Evaluate the final model against the test set!"
      ]
    },
    {
      "cell_type": "code",
      "execution_count": null,
      "metadata": {
        "id": "-z0B5FRgx9Lu"
      },
      "outputs": [],
      "source": [
        "test_loss, test_accuracy = model.evaluate(test_ds)\n",
        "\n",
        "print(\"Test loss: {:.2f}\".format(test_loss))\n",
        "print(\"Test accuracy: {:.2f}\".format(test_accuracy))"
      ]
    },
    {
      "cell_type": "markdown",
      "metadata": {
        "id": "xYIQ_l7LFP0Q"
      },
      "source": [
        "Predict if your pet is a cat or dog!"
      ]
    },
    {
      "cell_type": "code",
      "execution_count": null,
      "metadata": {
        "id": "0y1CpHeeFRgL"
      },
      "outputs": [],
      "source": [
        "# Retrieve a batch of images from the test set\n",
        "image_batch, label_batch = test_ds.as_numpy_iterator().next()\n",
        "predictions = model.predict_on_batch(image_batch).flatten()\n",
        "predictions = tf.where(predictions < 0.5, 0, 1)\n",
        "\n",
        "print(\"Predictions:\\n\", predictions.numpy())\n",
        "print(\"Labels:\\n\", label_batch)\n",
        "\n",
        "plt.figure(figsize=(10, 10))\n",
        "for i in range(9):\n",
        "    ax = plt.subplot(3, 3, i + 1)\n",
        "    plt.imshow(image_batch[i].astype(\"uint8\"))\n",
        "    plt.title(\"Predicted: {} | Label: {}\".format(predictions[i], label_batch[i]))\n",
        "    plt.axis(\"off\")"
      ]
    },
    {
      "cell_type": "markdown",
      "metadata": {
        "id": "Fphz_eB2FTIG"
      },
      "source": [
        "### Save the Model\n",
        "\n",
        "We don't want to lose our work once our Colab instance shuts down! Zip the full Keras model and then download it."
      ]
    },
    {
      "cell_type": "code",
      "execution_count": null,
      "metadata": {
        "id": "87ZlHIoXF5GT"
      },
      "outputs": [],
      "source": [
        "# Save the model\n",
        "model_name = \"cat-dog-mnv2.keras\"\n",
        "model.save(model_name)"
      ]
    },
    {
      "cell_type": "markdown",
      "metadata": {
        "id": "_8O6nYGVF5GY"
      },
      "source": [
        "**Download** your model to your local computer!\n",
        "\n",
        "- You can use `scp` to move it between devices\n",
        "- You can use [`keras.saving.load_model()`](https://keras.io/api/models/model_saving_apis/model_saving_and_loading/) to load the saved model"
      ]
    },
    {
      "cell_type": "markdown",
      "metadata": {
        "id": "DoYZxGSHF5GY"
      },
      "source": [
        "### TensorFlow Lite Conversion\n",
        "\n",
        "We will ultimately be executing this model on the Raspberry Pi 5, which is well-suited to TensorFlow Lite\n",
        "([which is now LiteRT](https://developers.googleblog.com/en/tensorflow-lite-is-now-litert/))\n",
        "\n",
        "When we do this we will use the default [full integer quantizaiton of weights and activations](https://www.tensorflow.org/model_optimization/guide/quantization/post_training)"
      ]
    },
    {
      "cell_type": "code",
      "execution_count": null,
      "metadata": {
        "id": "Fn9ru5Ns0R1H"
      },
      "outputs": [],
      "source": [
        "converter = tf.lite.TFLiteConverter.from_keras_model(model)\n",
        "\n",
        "# Default optimization to int8\n",
        "converter.optimizations = [tf.lite.Optimize.DEFAULT]\n",
        "tflite_model = converter.convert()\n",
        "\n",
        "# Show size of converted model in MB\n",
        "print(\"Model size in MB:\", len(tflite_model) / 1024 / 1024)\n",
        "\n",
        "tflite_model_path = \"cat-dog-mnv2.tflite\"\n",
        "with open(tflite_model_path, \"wb\") as f:\n",
        "    f.write(tflite_model)\n",
        "\n",
        "print(\"Model written to\", tflite_model_path)"
      ]
    },
    {
      "cell_type": "markdown",
      "metadata": {
        "id": "uMpuP2ZcF5GY"
      },
      "source": [
        "# Lab\n",
        "\n",
        "Our goals for the lab are to:\n",
        "\n",
        "1. Deploy tflite models to a Raspberry Pi using [LiteRT](https://ai.google.dev/edge/litert)\n",
        "2. Benchmark MobilenetV2 vs. MobilenetV3Small\n",
        "3. Conduct live inference of cats vs. dogs!!!\n",
        "\n",
        "## LiteRT\n",
        "\n",
        "The full TensorFlow package is for *training* models or conducting inference in a cloud environment.\n",
        "\n",
        "For an edge inference deployment we want something lighter weight... meaning compute and memory optimized for constrained devices.\n",
        "\n",
        "Google pioneered this with TensorFlow Lite, which has since [been re-imagined as LiteRT](https://developers.googleblog.com/en/tensorflow-lite-is-now-litert/).\n",
        "\n",
        "Although it supports PyTorch and JAX, LiteRT is baked into TensorFlow, so we can directly test our model prior to deploying to an edge device!\n",
        "\n",
        "> LiteRT inference typically follows the following steps:\n",
        ">\n",
        "> 1. **Loading a model:** load the `.tflite` model into memory, which contains the model's execution graph.\n",
        "> 2. **Transforming data:** Transform input data into the expected format and dimensions. Raw input data for the model generally does not match the input data format expected by the model. For example, you might need to resize an image or change the image format to be compatible with the model.\n",
        "> 3. **Running inference:** Execute the LiteRT model to make predictions. This step involves using the LiteRT API to execute the model. It involves a few steps such as building the interpreter, and allocating tensors.\n",
        "> 4. **Interpreting output:** Interpret the output tensors in a meaningful way that's useful in your application. For example, a model might return only a list of probabilities. It's up to you to map the probabilities to relevant categories and format the output.\n",
        ">\n",
        "> ~ [Get started with LiteRT](https://ai.google.dev/edge/litert/inference)\n"
      ]
    },
    {
      "cell_type": "markdown",
      "metadata": {
        "id": "7B_1ed22F5GY"
      },
      "source": [
        "### Signatures\n",
        "\n",
        "If you read [LiteRT Python](https://ai.google.dev/edge/litert/inference#run-python) and [Signatures in LiteRT](https://ai.google.dev/edge/litert/models/signatures)... it only sort of helps. And because this software is so new, the LLMs of the world only sort of help. So we'll walk through it.\n",
        "\n",
        "To run LiteRT inference we need an [**interpreter**](https://www.tensorflow.org/api_docs/python/tf/lite/Interpreter) that will load the model, manage memory, and can be invoked to process a sample through the model's graph.\n",
        "\n",
        "> The LiteRT interpreter uses a static graph ordering and a custom (less-dynamic) memory allocator to ensure minimal load, initialization, and execution latency.\n",
        "\n",
        "*Signatures* are the input and output specifications for a TensorFlow model.\n",
        "\n",
        "Signatures must be retained when converting the model from TensorFlow to tflite, but the [Keras model converter API uses the default signatures automatically](https://ai.google.dev/edge/litert/models/signatures#from_keras_model). That's good for us!\n",
        "\n",
        "Before running this cell, upload your `cat-dog-mnv2.tflite` model to wherever your notebook is running, if it's not already there."
      ]
    },
    {
      "cell_type": "code",
      "execution_count": null,
      "metadata": {
        "id": "zkisCSZCz5sE"
      },
      "outputs": [],
      "source": [
        "# This import is for testing with the TensorFlow only.\n",
        "# On the Pi you will need to use from ai_edge_litert.interpreter import Interpreter\n",
        "from tensorflow import lite\n",
        "from typing import Any\n",
        "\n",
        "# Open the model\n",
        "model_path = \"cat-dog-mnv2.tflite\"\n",
        "interpreter = lite.Interpreter(model_path=model_path)\n",
        "# Allocate the model in memory. Should always be called before doing inference\n",
        "interpreter.allocate_tensors()\n",
        "\n",
        "# Show the model's signature dict\n",
        "signatures = interpreter.get_signature_list()\n",
        "print(signatures)"
      ]
    },
    {
      "cell_type": "markdown",
      "metadata": {
        "id": "OqZxzO_4F5GY"
      },
      "source": [
        "This should print something like this (expanded here to be easier to see).\n",
        "\n",
        "```json\n",
        "{\n",
        "    'serving_default': {\n",
        "        'inputs': ['catdog_input'],\n",
        "        'outputs': ['output_0']\n",
        "        }\n",
        "}\n",
        "```\n",
        "\n",
        "It is possible to have multiple inputs/outputs to a model, but ours has just one. What we really need are the details for `inputs` and `outputs`, such as the expected **shape**.\n",
        "\n",
        "### Invoking\n",
        "\n",
        "\n",
        "```{note}\n",
        "I'm reasonably sure that `serving_default` is a reliable key, but if your signature key is different make sure you change it below.\n",
        "```\n",
        "\n",
        "We will create a Signature Runner for invoking our model.\n",
        "\n",
        "```{hint}\n",
        "The input and output details are extremely helpful for debugging!\n",
        "```"
      ]
    },
    {
      "cell_type": "code",
      "execution_count": null,
      "metadata": {
        "id": "byTxDTizz5sF"
      },
      "outputs": [],
      "source": [
        "# Create callable object that runs inference based on signatures\n",
        "fn = interpreter.get_signature_runner(\n",
        "    \"serving_default\"\n",
        ")  # Must match top level key from get_signature_list()\n",
        "\n",
        "# Print input and output details\n",
        "print(f\"Input details:\\n{fn.get_input_details()}\")\n",
        "print(f\"Output details:\\n{fn.get_output_details()}\")"
      ]
    },
    {
      "cell_type": "markdown",
      "metadata": {
        "id": "_5u0X_HVF5GY"
      },
      "source": [
        "As a test, let's just give the model a random numpy array of the correct shape!\n"
      ]
    },
    {
      "cell_type": "code",
      "execution_count": null,
      "metadata": {
        "id": "G_XzKHhQz5sF"
      },
      "outputs": [],
      "source": [
        "import numpy as np\n",
        "\n",
        "# Should match the shape from catdog_input[shape]\n",
        "sample = np.random.random_sample((1, 150, 150, 3)).astype(np.uint8)\n",
        "print(sample.shape)"
      ]
    },
    {
      "cell_type": "code",
      "execution_count": null,
      "metadata": {
        "id": "GGpJL4kqz5sF"
      },
      "outputs": [],
      "source": [
        "# Invoke inference\n",
        "output = fn(catdog_input=sample)  # Key matches top key from get_input_details()\n",
        "# Extract the result fom the batch returned\n",
        "result = output[\"output_0\"][0][0]  # Key matches top key from get_output_details()\n",
        "\n",
        "print(result)"
      ]
    },
    {
      "cell_type": "markdown",
      "metadata": {
        "id": "iIpqQ-kpF5GZ"
      },
      "source": [
        "### LiteRT Summary\n",
        "\n",
        "That was a lot. Let's break it down again:\n",
        "\n",
        "1. We opened our `tflite` model via a LiteRT [Interpreter](https://www.tensorflow.org/api_docs/python/tf/lite/Interpreter).\n",
        "2. We called `interpreter.allocate_tensors()` to reserve space in memory for our model. The input and output layers will be static, while the runtime intelligently manages the hidden layers in the constrained memory.\n",
        "3. We used `get_signature_list()` to view the labels given to our input and output layers by Keras during model conversion.\n",
        "4. We provided those signatures to `get_signature_runner()`, which created an object that can use the input and output details of the signature to easily invoke the model.\n",
        "5. We conducted inference on our model by calling the Signature Runner object and passing a data sample to the input signature.\n",
        "\n",
        "```{important}\n",
        "Reminder that this demo was with the full install of TensorFlow. On your edge device you should be\n",
        "[installing LiteRT](https://pypi.org/project/ai-edge-litert/)\n",
        "\n",
        "~~~bash\n",
        "pip install ai-edge-litert\n",
        "~~~\n",
        "\n",
        "Then import\n",
        "\n",
        "~~~python\n",
        "from ai_edge_litert.interpreter import Interpreter\n",
        "~~~\n",
        "```\n"
      ]
    },
    {
      "cell_type": "markdown",
      "metadata": {
        "id": "Rx-G4Y-RF5GZ"
      },
      "source": [
        "# 🐱 🐶 Live Inference\n",
        "\n",
        "Deliverables:\n",
        "\n",
        "- Upload your code to a GitHub repository and submit to Gradescope"
      ]
    },
    {
      "cell_type": "markdown",
      "metadata": {
        "id": "F1qOrlopF5GZ"
      },
      "source": [
        "## Using Webcam\n",
        "\n",
        "We will use the popular OpenCV library to take a picture with the webcam and convert it to numpy.\n",
        "\n",
        "Be aware that opencv takes pictures in blue-green-red (BGR) format, which needs to be converted to RGB for... anybody that's sane.\n",
        "\n",
        "Here is a demo that should work on your Pi if you have a webcam connected via USB."
      ]
    },
    {
      "cell_type": "code",
      "execution_count": null,
      "metadata": {
        "id": "Cj27VUafF5GZ"
      },
      "outputs": [],
      "source": [
        "%pip install -q opencv-python"
      ]
    },
    {
      "cell_type": "code",
      "execution_count": null,
      "metadata": {
        "id": "qpJzANqIF5GZ"
      },
      "outputs": [],
      "source": [
        "import cv2\n",
        "import numpy as np\n",
        "\n",
        "# Initialize the camera\n",
        "cap = cv2.VideoCapture(0)  # 0 is the default camera index\n",
        "\n",
        "# Capture a frame\n",
        "ret, frame = cap.read()\n",
        "\n",
        "# Release the camera\n",
        "cap.release()\n",
        "\n",
        "# Only process of ret is True\n",
        "if ret:\n",
        "    # Convert BGR (OpenCV default) to RGB for TFLite\n",
        "    frame_rgb = cv2.cvtColor(frame, cv2.COLOR_BGR2RGB)\n",
        "\n",
        "    # Convert to a NumPy array\n",
        "    img_array = np.array(frame_rgb, dtype=np.uint8)\n",
        "    print(\"Image shape:\", img_array.shape)  # Ensure shape matches model input\n",
        "\n",
        "    # Preview the image\n",
        "    cv2.imshow(\"Captured Image\", frame)\n",
        "    print(\"Press any key to exit.\")\n",
        "    while True:\n",
        "        # Window stays open until key press\n",
        "        if cv2.waitKey(0):\n",
        "            cv2.destroyAllWindows()\n",
        "            break\n",
        "\n",
        "else:\n",
        "    print(\"Failed to capture image.\")"
      ]
    }
  ],
  "metadata": {
    "accelerator": "GPU",
    "colab": {
      "gpuType": "T4",
      "provenance": []
    },
    "kernelspec": {
      "display_name": ".venv",
      "language": "python",
      "name": "python3"
    },
    "language_info": {
      "codemirror_mode": {
        "name": "ipython",
        "version": 3
      },
      "file_extension": ".py",
      "mimetype": "text/x-python",
      "name": "python",
      "nbconvert_exporter": "python",
      "pygments_lexer": "ipython3",
      "version": "3.12.3"
    }
  },
  "nbformat": 4,
  "nbformat_minor": 0
}